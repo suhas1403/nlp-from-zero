{
 "cells": [
  {
   "cell_type": "code",
   "execution_count": 2,
   "id": "ab834bb3-5e41-4384-8328-2db28efe23fd",
   "metadata": {},
   "outputs": [],
   "source": [
    "import pandas as pd\n",
    "import re\n",
    "from nltk.corpus import stopwords\n",
    "from nltk.tokenize import word_tokenize\n",
    "from nltk.stem import PorterStemmer\n",
    "import gensim\n",
    "import gensim.corpora as corpora"
   ]
  },
  {
   "cell_type": "code",
   "execution_count": 3,
   "id": "bb817c0b-977a-4a28-8ee1-f32f6c67f348",
   "metadata": {},
   "outputs": [],
   "source": [
    "data = pd.read_csv(\"news_articles.csv\")"
   ]
  },
  {
   "cell_type": "code",
   "execution_count": 4,
   "id": "35543f7a-fef2-4217-95ea-b93e54db8e00",
   "metadata": {},
   "outputs": [
    {
     "data": {
      "text/html": [
       "<div>\n",
       "<style scoped>\n",
       "    .dataframe tbody tr th:only-of-type {\n",
       "        vertical-align: middle;\n",
       "    }\n",
       "\n",
       "    .dataframe tbody tr th {\n",
       "        vertical-align: top;\n",
       "    }\n",
       "\n",
       "    .dataframe thead th {\n",
       "        text-align: right;\n",
       "    }\n",
       "</style>\n",
       "<table border=\"1\" class=\"dataframe\">\n",
       "  <thead>\n",
       "    <tr style=\"text-align: right;\">\n",
       "      <th></th>\n",
       "      <th>id</th>\n",
       "      <th>title</th>\n",
       "      <th>content</th>\n",
       "    </tr>\n",
       "  </thead>\n",
       "  <tbody>\n",
       "    <tr>\n",
       "      <th>0</th>\n",
       "      <td>25626</td>\n",
       "      <td>One Weight-Loss Approach Fits All? No, Not Eve...</td>\n",
       "      <td>Dr. Frank Sacks, a professor of nutrition at H...</td>\n",
       "    </tr>\n",
       "    <tr>\n",
       "      <th>1</th>\n",
       "      <td>19551</td>\n",
       "      <td>South Carolina Stuns Baylor to Reach the Round...</td>\n",
       "      <td>South Carolina’s win over   Duke was not only ...</td>\n",
       "    </tr>\n",
       "    <tr>\n",
       "      <th>2</th>\n",
       "      <td>25221</td>\n",
       "      <td>U.S. Presidential Race, Apple, Gene Wilder: Yo...</td>\n",
       "      <td>(Want to get this briefing by email? Here’s th...</td>\n",
       "    </tr>\n",
       "    <tr>\n",
       "      <th>3</th>\n",
       "      <td>18026</td>\n",
       "      <td>His Predecessor Gone, Gambia’s New President F...</td>\n",
       "      <td>BANJUL, Gambia  —   A week after he was inaugu...</td>\n",
       "    </tr>\n",
       "    <tr>\n",
       "      <th>4</th>\n",
       "      <td>21063</td>\n",
       "      <td>‘Harry Potter and the Cursed Child’ Goes From ...</td>\n",
       "      <td>The biggest book of the summer isn’t a blockbu...</td>\n",
       "    </tr>\n",
       "  </tbody>\n",
       "</table>\n",
       "</div>"
      ],
      "text/plain": [
       "      id                                              title  \\\n",
       "0  25626  One Weight-Loss Approach Fits All? No, Not Eve...   \n",
       "1  19551  South Carolina Stuns Baylor to Reach the Round...   \n",
       "2  25221  U.S. Presidential Race, Apple, Gene Wilder: Yo...   \n",
       "3  18026  His Predecessor Gone, Gambia’s New President F...   \n",
       "4  21063  ‘Harry Potter and the Cursed Child’ Goes From ...   \n",
       "\n",
       "                                             content  \n",
       "0  Dr. Frank Sacks, a professor of nutrition at H...  \n",
       "1  South Carolina’s win over   Duke was not only ...  \n",
       "2  (Want to get this briefing by email? Here’s th...  \n",
       "3  BANJUL, Gambia  —   A week after he was inaugu...  \n",
       "4  The biggest book of the summer isn’t a blockbu...  "
      ]
     },
     "execution_count": 4,
     "metadata": {},
     "output_type": "execute_result"
    }
   ],
   "source": [
    "data.head()"
   ]
  },
  {
   "cell_type": "code",
   "execution_count": 5,
   "id": "071a6f55-49a6-456a-af23-679452928489",
   "metadata": {},
   "outputs": [
    {
     "name": "stdout",
     "output_type": "stream",
     "text": [
      "<class 'pandas.core.frame.DataFrame'>\n",
      "RangeIndex: 100 entries, 0 to 99\n",
      "Data columns (total 3 columns):\n",
      " #   Column   Non-Null Count  Dtype \n",
      "---  ------   --------------  ----- \n",
      " 0   id       100 non-null    int64 \n",
      " 1   title    100 non-null    object\n",
      " 2   content  100 non-null    object\n",
      "dtypes: int64(1), object(2)\n",
      "memory usage: 2.5+ KB\n"
     ]
    }
   ],
   "source": [
    "data.info()"
   ]
  },
  {
   "cell_type": "code",
   "execution_count": 6,
   "id": "f7a79cbd-95c3-4829-a4af-376601e62bb1",
   "metadata": {},
   "outputs": [],
   "source": [
    "articles = data[\"content\"]"
   ]
  },
  {
   "cell_type": "code",
   "execution_count": 7,
   "id": "0d41b1ac-931c-4929-8036-5088cc7520a7",
   "metadata": {},
   "outputs": [],
   "source": [
    "#removing puntuations\n",
    "articles = articles.str.lower().apply(lambda x: re.sub(r\"[^\\w\\s]\",\"\",x))"
   ]
  },
  {
   "cell_type": "code",
   "execution_count": 8,
   "id": "df8635c6-c195-47b1-94c0-97c30c2ebb6e",
   "metadata": {},
   "outputs": [],
   "source": [
    "#stopword removal\n",
    "en_stopwords = stopwords.words('english')\n",
    "articles = articles.apply(lambda x: \" \".join([word for word in x.split() if word not in (en_stopwords)]))"
   ]
  },
  {
   "cell_type": "code",
   "execution_count": 9,
   "id": "d91b9d44-74e0-4161-85cf-592ece37a6ae",
   "metadata": {},
   "outputs": [],
   "source": [
    "#tokenizing "
   ]
  },
  {
   "cell_type": "code",
   "execution_count": 10,
   "id": "23606433-d7ec-4297-abbd-caa4943e605e",
   "metadata": {},
   "outputs": [],
   "source": [
    "articles = articles.apply(lambda x: word_tokenize(x))"
   ]
  },
  {
   "cell_type": "code",
   "execution_count": 11,
   "id": "c0f10134-c9b0-49f4-a234-249a8a0f0232",
   "metadata": {},
   "outputs": [],
   "source": [
    "ps =PorterStemmer()\n",
    "articles = articles.apply(lambda tokens:[ps.stem(token) for token in tokens])"
   ]
  },
  {
   "cell_type": "code",
   "execution_count": 12,
   "id": "44d21db5-a369-48a1-bffc-7db309aef8e3",
   "metadata": {},
   "outputs": [
    {
     "data": {
      "text/plain": [
       "0     [dr, frank, sack, professor, nutrit, harvard, ...\n",
       "1     [south, carolina, win, duke, surpris, fan, pos...\n",
       "2     [want, get, brief, email, here, good, even, he...\n",
       "3     [banjul, gambia, week, inaugur, anoth, countri...\n",
       "4     [biggest, book, summer, isnt, blockbust, thril...\n",
       "                            ...                        \n",
       "95    [want, get, brief, email, here, good, even, he...\n",
       "96    [tallinn, estonia, guard, brought, ahm, abdul,...\n",
       "97    [gov, scott, walker, wisconsin, activ, wiscons...\n",
       "98    [social, media, shook, emot, headlin, shout, n...\n",
       "99    [moment, joanna, acevedo, first, set, foot, bo...\n",
       "Name: content, Length: 100, dtype: object"
      ]
     },
     "execution_count": 12,
     "metadata": {},
     "output_type": "execute_result"
    }
   ],
   "source": [
    "articles"
   ]
  },
  {
   "cell_type": "code",
   "execution_count": 13,
   "id": "9b12ae23-7ecf-47a4-a33a-f6473411afb0",
   "metadata": {},
   "outputs": [
    {
     "name": "stdout",
     "output_type": "stream",
     "text": [
      "Dictionary<8693 unique tokens: ['10', '100', '108', '15', '155']...>\n"
     ]
    }
   ],
   "source": [
    "dictionary = corpora.Dictionary(articles)\n",
    "print(dictionary)"
   ]
  },
  {
   "cell_type": "code",
   "execution_count": 16,
   "id": "e3afdc86-ea65-4360-83b0-0fcff451a39d",
   "metadata": {},
   "outputs": [],
   "source": [
    "doc_term = [dictionary.doc2bow(text) for text in articles]"
   ]
  },
  {
   "cell_type": "code",
   "execution_count": 18,
   "id": "404fe0de-447d-4aef-b05f-27f1a7f52040",
   "metadata": {},
   "outputs": [],
   "source": [
    "num_topics = 2"
   ]
  },
  {
   "cell_type": "code",
   "execution_count": 19,
   "id": "93f25edc-e3ba-4f84-acd2-901d3c96b338",
   "metadata": {},
   "outputs": [],
   "source": [
    "lda_model = gensim.models.LdaModel(corpus=doc_term,id2word=dictionary, num_topics=num_topics)"
   ]
  },
  {
   "cell_type": "code",
   "execution_count": 20,
   "id": "09327c80-a8a4-4037-9fa4-da4635b19d33",
   "metadata": {},
   "outputs": [
    {
     "data": {
      "text/plain": [
       "[(0,\n",
       "  '0.021*\"mr\" + 0.013*\"said\" + 0.004*\"one\" + 0.004*\"trump\" + 0.004*\"would\"'),\n",
       " (1,\n",
       "  '0.016*\"said\" + 0.013*\"mr\" + 0.007*\"trump\" + 0.005*\"would\" + 0.004*\"state\"')]"
      ]
     },
     "execution_count": 20,
     "metadata": {},
     "output_type": "execute_result"
    }
   ],
   "source": [
    "lda_model.print_topics(num_topics=num_topics,num_words=5)"
   ]
  },
  {
   "cell_type": "markdown",
   "id": "044aa0bc-cc9b-4915-82c7-63603ba91ad8",
   "metadata": {},
   "source": [
    "LSA"
   ]
  },
  {
   "cell_type": "code",
   "execution_count": 40,
   "id": "3a18a404-5c74-4f2f-83d2-9702a39929e9",
   "metadata": {},
   "outputs": [],
   "source": [
    "from gensim.models import LsiModel"
   ]
  },
  {
   "cell_type": "code",
   "execution_count": 23,
   "id": "1c0cbfb7-8bd5-4884-b663-5e00963566ba",
   "metadata": {},
   "outputs": [],
   "source": [
    "lsaModel = LsiModel(corpus=doc_term,id2word=dictionary, num_topics=num_topics)"
   ]
  },
  {
   "cell_type": "code",
   "execution_count": 26,
   "id": "0376dc89-5a0e-4cfe-a982-2f139140deee",
   "metadata": {},
   "outputs": [
    {
     "data": {
      "text/plain": [
       "[(0,\n",
       "  '0.615*\"mr\" + 0.429*\"said\" + 0.187*\"trump\" + 0.130*\"state\" + 0.119*\"would\"'),\n",
       " (1,\n",
       "  '-0.537*\"mr\" + -0.319*\"trump\" + 0.286*\"said\" + 0.242*\"saudi\" + 0.142*\"weight\"')]"
      ]
     },
     "execution_count": 26,
     "metadata": {},
     "output_type": "execute_result"
    }
   ],
   "source": [
    "lsaModel.print_topics(num_topics=num_topics,num_words=5)"
   ]
  },
  {
   "cell_type": "markdown",
   "id": "57fd2a0e-cdea-49f6-afb7-2ca685115600",
   "metadata": {},
   "source": [
    "optimizing topics"
   ]
  },
  {
   "cell_type": "code",
   "execution_count": 46,
   "id": "7648cddb-1987-41a7-b47d-c00f5277355c",
   "metadata": {},
   "outputs": [],
   "source": [
    "from gensim.models.coherencemodel import CoherenceModel\n",
    "import matplotlib.pyplot as plt"
   ]
  },
  {
   "cell_type": "code",
   "execution_count": 43,
   "id": "bac2356a-7acc-4090-9844-cebc4dd9cb03",
   "metadata": {},
   "outputs": [],
   "source": [
    "# generate coherence scores to determine an optimum number of topics\n",
    "coherence_values = []\n",
    "model_list = []"
   ]
  },
  {
   "cell_type": "code",
   "execution_count": 44,
   "id": "21a00572-3b96-41ad-ba97-ff1c15c438f1",
   "metadata": {},
   "outputs": [],
   "source": [
    "min_topics = 2\n",
    "max_topics = 11"
   ]
  },
  {
   "cell_type": "code",
   "execution_count": 45,
   "id": "2c67b24a-9f40-4161-a281-a1fc2e48eb0a",
   "metadata": {},
   "outputs": [],
   "source": [
    "for num_topics_i in range(min_topics, max_topics+1):\n",
    "    model = LsiModel(doc_term, num_topics=num_topics_i, id2word = dictionary, random_seed=0)\n",
    "    model_list.append(model)\n",
    "    coherence_model = CoherenceModel(model=model, texts=articles, dictionary=dictionary, coherence='c_v')\n",
    "    coherence_values.append(coherence_model.get_coherence())"
   ]
  },
  {
   "cell_type": "code",
   "execution_count": 49,
   "id": "e4bbb470-6d2a-454e-96a8-75fab2f7af31",
   "metadata": {},
   "outputs": [
    {
     "data": {
      "text/plain": [
       "[<matplotlib.lines.Line2D at 0x271b9792510>]"
      ]
     },
     "execution_count": 49,
     "metadata": {},
     "output_type": "execute_result"
    },
    {
     "data": {
      "image/png": "[encoded data removed]",
      "text/plain": [
       "<Figure size 640x480 with 1 Axes>"
      ]
     },
     "metadata": {},
     "output_type": "display_data"
    }
   ],
   "source": [
    "plt.plot(range(min_topics,max_topics+1),coherence_values)"
   ]
  },
  {
   "cell_type": "code",
   "execution_count": 50,
   "id": "eb6ab628-e817-4b00-a7af-7283fdbb05dd",
   "metadata": {},
   "outputs": [
    {
     "name": "stdout",
     "output_type": "stream",
     "text": [
      "[(0, '0.615*\"mr\" + 0.429*\"said\" + 0.187*\"trump\" + 0.130*\"state\" + 0.119*\"would\"'), (1, '-0.537*\"mr\" + -0.319*\"trump\" + 0.286*\"said\" + 0.242*\"saudi\" + 0.142*\"weight\"'), (2, '0.460*\"saudi\" + 0.264*\"taliban\" + -0.249*\"weight\" + 0.194*\"afghanistan\" + -0.191*\"dr\"')]\n"
     ]
    }
   ],
   "source": [
    "final_n_topics = 3\n",
    "lsamodel_f = LsiModel(doc_term, num_topics=final_n_topics, id2word = dictionary) \n",
    "print(lsamodel_f.print_topics(num_topics=final_n_topics, num_words=5))"
   ]
  },
  {
   "cell_type": "code",
   "execution_count": null,
   "id": "3f84d523-29ac-47f4-8c43-5cecc390f87c",
   "metadata": {},
   "outputs": [],
   "source": []
  }
 ],
 "metadata": {
  "kernelspec": {
   "display_name": "Python 3 (ipykernel)",
   "language": "python",
   "name": "python3"
  },
  "language_info": {
   "codemirror_mode": {
    "name": "ipython",
    "version": 3
   },
   "file_extension": ".py",
   "mimetype": "text/x-python",
   "name": "python",
   "nbconvert_exporter": "python",
   "pygments_lexer": "ipython3",
   "version": "3.13.1"
  }
 },
 "nbformat": 4,
 "nbformat_minor": 5
}
