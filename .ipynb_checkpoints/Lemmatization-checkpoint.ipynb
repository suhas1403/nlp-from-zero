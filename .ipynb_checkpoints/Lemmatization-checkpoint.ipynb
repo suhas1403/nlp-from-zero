{
 "cells": [
  {
   "cell_type": "code",
   "execution_count": 1,
   "id": "041ba41d-25f3-4595-9414-93e6e299ad3a",
   "metadata": {},
   "outputs": [],
   "source": [
    "import nltk"
   ]
  },
  {
   "cell_type": "code",
   "execution_count": 2,
   "id": "d6ea9120-e9ab-4a9d-8b40-cf48a6c7e60e",
   "metadata": {},
   "outputs": [
    {
     "name": "stderr",
     "output_type": "stream",
     "text": [
      "[nltk_data] Downloading package wordnet to\n",
      "[nltk_data]     C:\\Users\\Suhas\\AppData\\Roaming\\nltk_data...\n"
     ]
    },
    {
     "data": {
      "text/plain": [
       "True"
      ]
     },
     "execution_count": 2,
     "metadata": {},
     "output_type": "execute_result"
    }
   ],
   "source": [
    "nltk.download('wordnet')"
   ]
  },
  {
   "cell_type": "code",
   "execution_count": 3,
   "id": "594f999f-807c-48b9-a997-5b86bb69ad7c",
   "metadata": {},
   "outputs": [],
   "source": [
    "from nltk.stem import WordNetLemmatizer"
   ]
  },
  {
   "cell_type": "code",
   "execution_count": 4,
   "id": "fd8c5c7e-8a65-40df-abc7-21c1880f9af3",
   "metadata": {},
   "outputs": [],
   "source": [
    "lemmatizer = WordNetLemmatizer()"
   ]
  },
  {
   "cell_type": "code",
   "execution_count": 5,
   "id": "75b01284-eef7-46e2-a7d2-a9734db9848d",
   "metadata": {},
   "outputs": [],
   "source": [
    "connect_tokens = ['connecting', 'connected', 'connectivity', 'connect', 'connects']"
   ]
  },
  {
   "cell_type": "code",
   "execution_count": 8,
   "id": "7e710f8b-b4ef-4411-9fa7-bdb440b95d8d",
   "metadata": {},
   "outputs": [],
   "source": [
    "learn_tokens = ['learned', 'learning', 'learn', 'learns', 'learner', 'learners']"
   ]
  },
  {
   "cell_type": "code",
   "execution_count": 9,
   "id": "4856a21f-47cd-49f9-bd8e-50cb568e7af5",
   "metadata": {},
   "outputs": [],
   "source": [
    "likes_tokens = ['likes', 'better', 'worse']"
   ]
  },
  {
   "cell_type": "code",
   "execution_count": 10,
   "id": "c9f0141c-606f-4a1f-92b3-c802c26768b3",
   "metadata": {},
   "outputs": [
    {
     "name": "stdout",
     "output_type": "stream",
     "text": [
      "connecting :  connecting\n",
      "connected :  connected\n",
      "connectivity :  connectivity\n",
      "connect :  connect\n",
      "connects :  connects\n"
     ]
    }
   ],
   "source": [
    "for t in connect_tokens:\n",
    "    print(t,\": \",lemmatizer.lemmatize(t))"
   ]
  },
  {
   "cell_type": "code",
   "execution_count": 11,
   "id": "5b40afdf-dcb8-4c61-ab0a-735d42a8e6bb",
   "metadata": {},
   "outputs": [
    {
     "name": "stdout",
     "output_type": "stream",
     "text": [
      "learned :  learned\n",
      "learning :  learning\n",
      "learn :  learn\n",
      "learns :  learns\n",
      "learner :  learner\n",
      "learners :  learner\n"
     ]
    }
   ],
   "source": [
    "for t in learn_tokens:\n",
    "    print(t,\": \",lemmatizer.lemmatize(t))"
   ]
  },
  {
   "cell_type": "code",
   "execution_count": 12,
   "id": "1055d5ce-f443-4e16-9819-9e58eed3bea0",
   "metadata": {},
   "outputs": [
    {
     "name": "stdout",
     "output_type": "stream",
     "text": [
      "likes :  like\n",
      "better :  better\n",
      "worse :  worse\n"
     ]
    }
   ],
   "source": [
    "for t in likes_tokens:\n",
    "    print(t,\": \",lemmatizer.lemmatize(t))"
   ]
  },
  {
   "cell_type": "code",
   "execution_count": null,
   "id": "95132439-e4d0-4365-9668-ac92eaec4e96",
   "metadata": {},
   "outputs": [],
   "source": []
  }
 ],
 "metadata": {
  "kernelspec": {
   "display_name": "Python 3 (ipykernel)",
   "language": "python",
   "name": "python3"
  },
  "language_info": {
   "codemirror_mode": {
    "name": "ipython",
    "version": 3
   },
   "file_extension": ".py",
   "mimetype": "text/x-python",
   "name": "python",
   "nbconvert_exporter": "python",
   "pygments_lexer": "ipython3",
   "version": "3.13.1"
  }
 },
 "nbformat": 4,
 "nbformat_minor": 5
}
