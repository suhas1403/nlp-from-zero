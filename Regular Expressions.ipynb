{
 "cells": [
  {
   "cell_type": "code",
   "execution_count": 1,
   "id": "d11cbec5-6ca4-46c2-992b-cdc185a824cd",
   "metadata": {},
   "outputs": [],
   "source": [
    "import re"
   ]
  },
  {
   "cell_type": "code",
   "execution_count": 3,
   "id": "2edead90-1f6b-4aaf-bce5-26bc3f450dbe",
   "metadata": {},
   "outputs": [
    {
     "name": "stdout",
     "output_type": "stream",
     "text": [
      "C:\\desktop\\notes\n"
     ]
    }
   ],
   "source": [
    "my_folder = r\"C:\\desktop\\notes\"\n",
    "print(my_folder)"
   ]
  },
  {
   "cell_type": "code",
   "execution_count": 4,
   "id": "d64809b5-5ba8-4640-ba01-dcb1174f8f25",
   "metadata": {},
   "outputs": [],
   "source": [
    "result_search = re.search(\"pattern\",r\"string to contain the pattern\")"
   ]
  },
  {
   "cell_type": "code",
   "execution_count": 5,
   "id": "bf821ad9-6511-4bf8-9a6b-4220ce7decf6",
   "metadata": {},
   "outputs": [
    {
     "name": "stdout",
     "output_type": "stream",
     "text": [
      "<re.Match object; span=(22, 29), match='pattern'>\n"
     ]
    }
   ],
   "source": [
    "print(result_search)"
   ]
  },
  {
   "cell_type": "code",
   "execution_count": 7,
   "id": "6a45e2cf-8a05-42b7-97d3-2b15bcc0c6a3",
   "metadata": {},
   "outputs": [
    {
     "name": "stdout",
     "output_type": "stream",
     "text": [
      "None\n"
     ]
    }
   ],
   "source": [
    "result_search_2 = re.search(\"pattern\", r\"the phrase to find isn't in this string\")\n",
    "print(result_search_2)"
   ]
  },
  {
   "cell_type": "code",
   "execution_count": 10,
   "id": "6c66ca5d-d3af-49f2-bc86-e6050a240c7d",
   "metadata": {},
   "outputs": [],
   "source": [
    "string = r\"sara was able to help me find the items I needed quickly\""
   ]
  },
  {
   "cell_type": "code",
   "execution_count": 16,
   "id": "2943bcf5-5787-4d9a-bc5e-8c028e796afc",
   "metadata": {},
   "outputs": [
    {
     "name": "stdout",
     "output_type": "stream",
     "text": [
      "sarah was able to help me find the items I needed quickly\n"
     ]
    }
   ],
   "source": [
    "new_string = re.sub(\"sara\",\"sarah\",string)\n",
    "print(new_string)"
   ]
  },
  {
   "cell_type": "code",
   "execution_count": 17,
   "id": "48402302-a9c3-4122-ac84-3c433ad1b564",
   "metadata": {},
   "outputs": [],
   "source": [
    "customer_reviews = ['sam was a great help to me in the store', \n",
    "                    'the cashier was very rude to me, I think her name was eleanor', \n",
    "                    'amazing work from sadeen!', \n",
    "                    'sarah was able to help me find the items i needed quickly', \n",
    "                    'lucy is such a great addition to the team', \n",
    "                    'great service from sara she found me what i wanted'\n",
    "                   ]"
   ]
  },
  {
   "cell_type": "code",
   "execution_count": 19,
   "id": "70004341-69a9-420c-b1d0-91b570a45bda",
   "metadata": {},
   "outputs": [],
   "source": [
    "sarahs_reviews =[]"
   ]
  },
  {
   "cell_type": "code",
   "execution_count": 21,
   "id": "e0c1b7b1-b3cc-4574-ae71-2a18a1cc838f",
   "metadata": {},
   "outputs": [],
   "source": [
    "pattern_to_find = r\"sarah?\""
   ]
  },
  {
   "cell_type": "markdown",
   "id": "8fb5463d-1b16-45b2-8cb5-d5c47074f4dc",
   "metadata": {},
   "source": [
    "r\"sarah?\" means the h is optional so it searchs for sara and sarah both"
   ]
  },
  {
   "cell_type": "code",
   "execution_count": 23,
   "id": "3c606062-99d5-4abc-9ba7-2b674e2fb85e",
   "metadata": {},
   "outputs": [],
   "source": [
    "for string in customer_reviews:\n",
    "    if (re.search(pattern_to_find, string)):\n",
    "        sarahs_reviews.append(string)"
   ]
  },
  {
   "cell_type": "code",
   "execution_count": 24,
   "id": "d6f4f1f2-8849-4e1a-ab46-2f649f9725a5",
   "metadata": {},
   "outputs": [
    {
     "name": "stdout",
     "output_type": "stream",
     "text": [
      "['sarah was able to help me find the items i needed quickly', 'great service from sara she found me what i wanted']\n"
     ]
    }
   ],
   "source": [
    "print(sarahs_reviews)"
   ]
  },
  {
   "cell_type": "code",
   "execution_count": 26,
   "id": "f0177ed3-93f5-48a3-96dd-34db9d5a80dc",
   "metadata": {},
   "outputs": [],
   "source": [
    "a_reviews =[]\n",
    "pattern_to_find = r\"^a\""
   ]
  },
  {
   "cell_type": "raw",
   "id": "d66f7a24-a59a-4d27-8a30-314f3b134057",
   "metadata": {},
   "source": [
    "r\"^a\" means anything starting with a"
   ]
  },
  {
   "cell_type": "code",
   "execution_count": 29,
   "id": "372d79de-4dab-4a26-90f8-e5a83bba4c57",
   "metadata": {},
   "outputs": [],
   "source": [
    "for string in customer_reviews:\n",
    "    if (re.search(pattern_to_find,string)):\n",
    "        a_reviews.append(string)"
   ]
  },
  {
   "cell_type": "code",
   "execution_count": 30,
   "id": "62bca271-b434-435d-8e67-c1e84fcdbf83",
   "metadata": {},
   "outputs": [
    {
     "name": "stdout",
     "output_type": "stream",
     "text": [
      "['amazing work from sadeen!']\n"
     ]
    }
   ],
   "source": [
    "print(a_reviews)"
   ]
  },
  {
   "cell_type": "code",
   "execution_count": 31,
   "id": "1daae3c7-c26f-482d-854a-795b0f20e587",
   "metadata": {},
   "outputs": [],
   "source": [
    "y_review = []\n",
    "pattern_to_find = r\"y$\""
   ]
  },
  {
   "cell_type": "markdown",
   "id": "45a8a867-8ee9-4a75-a6e0-842e60e19b13",
   "metadata": {},
   "source": [
    "r\"y$\" means anything that ends with the letter y"
   ]
  },
  {
   "cell_type": "code",
   "execution_count": 32,
   "id": "176fb320-ad8d-48df-a61b-ffe25ef349bb",
   "metadata": {},
   "outputs": [],
   "source": [
    "for string in customer_reviews:\n",
    "    if (re.search(pattern_to_find,string)):\n",
    "        y_review.append(string)"
   ]
  },
  {
   "cell_type": "code",
   "execution_count": 33,
   "id": "4f2bbdc1-8353-4393-b0bd-3d78c3f2d742",
   "metadata": {},
   "outputs": [
    {
     "name": "stdout",
     "output_type": "stream",
     "text": [
      "['sarah was able to help me find the items i needed quickly']\n"
     ]
    }
   ],
   "source": [
    "print(y_review)\n"
   ]
  },
  {
   "cell_type": "code",
   "execution_count": 42,
   "id": "aad578e8-3d1a-4bc7-bec6-523c92419500",
   "metadata": {},
   "outputs": [],
   "source": [
    "needwant_reviews = []\n",
    "pattern_to_find = r\"(need|want)ed\""
   ]
  },
  {
   "cell_type": "markdown",
   "id": "ce393fc9-a706-4d6d-9321-5bf41293cbac",
   "metadata": {},
   "source": [
    "basically looking for needed and wanted"
   ]
  },
  {
   "cell_type": "code",
   "execution_count": 43,
   "id": "8f717bb2-72d4-4139-85d4-573b85215b6a",
   "metadata": {},
   "outputs": [],
   "source": [
    "for string in customer_reviews:\n",
    "    if (re.search(pattern_to_find, string)):\n",
    "        needwant_reviews.append(string)"
   ]
  },
  {
   "cell_type": "code",
   "execution_count": 45,
   "id": "99d9de43-3634-4f13-b499-b656ecc3f8ac",
   "metadata": {},
   "outputs": [
    {
     "name": "stdout",
     "output_type": "stream",
     "text": [
      "['sarah was able to help me find the items i needed quickly', 'great service from sara she found me what i wanted']\n"
     ]
    }
   ],
   "source": [
    "print(needwant_reviews)"
   ]
  },
  {
   "cell_type": "code",
   "execution_count": 62,
   "id": "c7ff2c33-04c3-4b78-8e91-1e2770fadd88",
   "metadata": {},
   "outputs": [],
   "source": [
    "no_punct_reviews = []\n",
    "pattern_to_find = r\"[^\\w\\s]\""
   ]
  },
  {
   "cell_type": "markdown",
   "id": "4428f314-da3f-49ec-b4a4-9c366369b564",
   "metadata": {},
   "source": [
    "r\"[^\\w\\s]\" means everything except words and spaces\n"
   ]
  },
  {
   "cell_type": "code",
   "execution_count": 63,
   "id": "030e27c7-4274-40f7-baff-55cf98ac741f",
   "metadata": {},
   "outputs": [],
   "source": [
    "for string in customer_reviews:\n",
    "    no_punct_string = re.sub(pattern_to_find,\"\",string)\n",
    "    no_punct_reviews.append(no_punct_string)"
   ]
  },
  {
   "cell_type": "code",
   "execution_count": 64,
   "id": "8d93307b-a48a-42d3-b98e-32ed145877e1",
   "metadata": {},
   "outputs": [
    {
     "name": "stdout",
     "output_type": "stream",
     "text": [
      "['sam was a great help to me in the store', 'the cashier was very rude to me I think her name was eleanor', 'amazing work from sadeen', 'sarah was able to help me find the items i needed quickly', 'lucy is such a great addition to the team', 'great service from sara she found me what i wanted']\n"
     ]
    }
   ],
   "source": [
    "print(no_punct_reviews)"
   ]
  },
  {
   "cell_type": "code",
   "execution_count": null,
   "id": "16b33e58-512c-48bd-a805-ae2c289861ee",
   "metadata": {},
   "outputs": [],
   "source": []
  }
 ],
 "metadata": {
  "kernelspec": {
   "display_name": "Python 3 (ipykernel)",
   "language": "python",
   "name": "python3"
  },
  "language_info": {
   "codemirror_mode": {
    "name": "ipython",
    "version": 3
   },
   "file_extension": ".py",
   "mimetype": "text/x-python",
   "name": "python",
   "nbconvert_exporter": "python",
   "pygments_lexer": "ipython3",
   "version": "3.13.1"
  }
 },
 "nbformat": 4,
 "nbformat_minor": 5
}
